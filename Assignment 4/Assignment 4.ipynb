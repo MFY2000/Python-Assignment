{
 "cells": [
  {
   "cell_type": "code",
   "execution_count": 1,
   "metadata": {},
   "outputs": [
    {
     "name": "stdout",
     "output_type": "stream",
     "text": [
      "\t\t\t\t\t Assignment 4 \n",
      "\n"
     ]
    }
   ],
   "source": [
    "print(\"\\t\\t\\t\\t\\t Assignment 4 \\n\")\\"
   ]
  },
  {
   "cell_type": "code",
   "execution_count": 4,
   "metadata": {},
   "outputs": [
    {
     "name": "stdout",
     "output_type": "stream",
     "text": [
      "\t\t\t Task 1\n",
      "\n",
      "{'first_name': 'Muhammad', 'last_name': ' Fahad', 'age': '18', 'city': 'khi'}\n",
      "{'first_name': 'Muhammad', 'last_name': ' Fahad', 'age': '18', 'city': 'khi', 'qualification': 'BSC'}\n",
      "{'first_name': 'Muhammad', 'last_name': ' Fahad', 'age': '18', 'city': 'khi'}\n"
     ]
    }
   ],
   "source": [
    "# Task 1\n",
    "\n",
    "print(\"\\t\\t\\t Task 1\\n\")\n",
    "\n",
    "About={'first_name':'Muhammad','last_name':\" Fahad\",'age':'18','city':'khi'}\n",
    "\n",
    "print(About)\n",
    "\n",
    "About['qualification']='BSC'\n",
    "\n",
    "print(About);\n",
    "\n",
    "del About['qualification']\n",
    "\n",
    "print(About)"
   ]
  },
  {
   "cell_type": "code",
   "execution_count": 6,
   "metadata": {},
   "outputs": [
    {
     "name": "stdout",
     "output_type": "stream",
     "text": [
      "('Sindh', 'big city', 'PAKISTAN', '14.91million')\n"
     ]
    }
   ],
   "source": [
    "karachi=\"Sindh\",\"big city\",\"PAKISTAN\",\"14.91million\"\n",
    "\n",
    "lahore=\"punjab\",\"\",\"PAKISTAN\",\"11.9million\"\n",
    "\n",
    "islamabad=\"punjab\",\"Capital\",\"PAKISTAN\",\"1.0million\"\n",
    "\n",
    "cities={'karachi':karachi,'lahore':lahore,'islamabad':islamabad}\n",
    "\n",
    "print(cities['karachi'])"
   ]
  },
  {
   "cell_type": "code",
   "execution_count": 8,
   "metadata": {},
   "outputs": [
    {
     "name": "stdout",
     "output_type": "stream",
     "text": [
      "\t\t\t Task 3\n",
      "\n",
      "How many turn you wants: 2\n",
      "Enter age: 95\n",
      "Your ticket price is will be 15$: \n",
      "Enter age: 1\n",
      "The ticket is free;\n"
     ]
    }
   ],
   "source": [
    "#Task 3\n",
    "\n",
    "print(\"\\t\\t\\t Task 3\\n\")\n",
    "\n",
    "\n",
    "pre = int(input(\"How many turn you wants: \"))\n",
    "\n",
    "\n",
    "for c in range(pre):\n",
    "    age = int(input(\"Enter age: \"))\n",
    "    if age <= 3 :\n",
    "        print(\"The ticket is free;\")\n",
    "    elif age <= 12 and age >= 3:\n",
    "        print(\"Your ticket price will be 10$: \")\n",
    "    elif age >= 12:\n",
    "        print(\"Your ticket price is will be 15$: \")"
   ]
  },
  {
   "cell_type": "code",
   "execution_count": 9,
   "metadata": {},
   "outputs": [
    {
     "name": "stdout",
     "output_type": "stream",
     "text": [
      "\t\t\t Task 4n\n",
      "one of the favorit book is A Brain-Friendly Guide\n"
     ]
    }
   ],
   "source": [
    "#Task 4\n",
    "\n",
    "print(\"\\t\\t\\t Task 4\")\n",
    "\n",
    "def favorite_book(title):\n",
    "    print(\"one of the favorit book is\",title)\n",
    "\n",
    "favorite_book(\"A Brain-Friendly Guide\")"
   ]
  },
  {
   "cell_type": "code",
   "execution_count": 14,
   "metadata": {},
   "outputs": [
    {
     "name": "stdout",
     "output_type": "stream",
     "text": [
      "\t\t\t Task 5\n",
      "27\n"
     ]
    }
   ],
   "source": [
    "#Task 5\n",
    "\n",
    "print(\"\\t\\t\\t Task 5\")\n",
    "import random\n",
    "print(random.randint(1,30))"
   ]
  },
  {
   "cell_type": "code",
   "execution_count": null,
   "metadata": {},
   "outputs": [],
   "source": []
  },
  {
   "cell_type": "code",
   "execution_count": null,
   "metadata": {},
   "outputs": [],
   "source": []
  }
 ],
 "metadata": {
  "kernelspec": {
   "display_name": "Python 3",
   "language": "python",
   "name": "python3"
  },
  "language_info": {
   "codemirror_mode": {
    "name": "ipython",
    "version": 3
   },
   "file_extension": ".py",
   "mimetype": "text/x-python",
   "name": "python",
   "nbconvert_exporter": "python",
   "pygments_lexer": "ipython3",
   "version": "3.7.4"
  }
 },
 "nbformat": 4,
 "nbformat_minor": 2
}
