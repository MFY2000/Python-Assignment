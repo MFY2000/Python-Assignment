{
 "cells": [
  {
   "cell_type": "code",
   "execution_count": 2,
   "metadata": {},
   "outputs": [
    {
     "name": "stdout",
     "output_type": "stream",
     "text": [
      "\t\t\t\t\t Assignment 5\n",
      "\n"
     ]
    }
   ],
   "source": [
    "print(\"\\t\\t\\t\\t\\t Assignment 5\\n\")"
   ]
  },
  {
   "cell_type": "code",
   "execution_count": 12,
   "metadata": {},
   "outputs": [
    {
     "name": "stdout",
     "output_type": "stream",
     "text": [
      "\t\t\t Task 1\n",
      "\n",
      "Enter the num of factorial: 6\n",
      "720\n"
     ]
    }
   ],
   "source": [
    "# Task 1\n",
    "\n",
    "print(\"\\t\\t\\t Task 1\\n\")\n",
    "def factorial(num):\n",
    "    if num != 1:\n",
    "        return num * (factorial(num-1))\n",
    "    else:\n",
    "        return 1\n",
    "\n",
    "value =int(input(\"Enter the num of factorial: \"))\n",
    "\n",
    "print(factorial(value))"
   ]
  },
  {
   "cell_type": "code",
   "execution_count": 24,
   "metadata": {},
   "outputs": [
    {
     "name": "stdout",
     "output_type": "stream",
     "text": [
      "\t\t\t Task 2\n",
      "\n",
      "Original String :  My Name Is Muhammad Fahad 12\n",
      "No. of Upper case characters :  5\n",
      "No. of Lower case Characters :  16\n"
     ]
    }
   ],
   "source": [
    "# Task 2\n",
    "\n",
    "print(\"\\t\\t\\t Task 2\\n\")\n",
    "\n",
    "def fahad(str):\n",
    "    \n",
    "    UPPER_CASE = 0;\n",
    "    \n",
    "    LOWER_CASE = 0;\n",
    "    for case in str:\n",
    "        if case.isupper():\n",
    "            UPPER_CASE += 1\n",
    "        elif case.islower():\n",
    "            LOWER_CASE+= 1\n",
    "            \n",
    "    print (\"Original String : \", str)\n",
    "    print (\"No. of Upper case characters : \", UPPER_CASE)\n",
    "    print (\"No. of Lower case Characters : \", LOWER_CASE)\n",
    "\n",
    "fahad('My Name Is Muhammad Fahad 12')"
   ]
  },
  {
   "cell_type": "code",
   "execution_count": 27,
   "metadata": {},
   "outputs": [
    {
     "name": "stdout",
     "output_type": "stream",
     "text": [
      "\t\t\t Task 3\n",
      "\n",
      "2 4 6 8 10 "
     ]
    }
   ],
   "source": [
    "# Task 3\n",
    "\n",
    "print(\"\\t\\t\\t Task 3\\n\")\n",
    "def myprint(n):\n",
    "    print(n, end = \" \")\n",
    "\n",
    "mylist = [1,2,3,4,5,6,7,8,9,10] \n",
    "  \n",
    "\n",
    "for num in mylist: \n",
    "      \n",
    "\n",
    "    if num % 2 == 0: \n",
    "       myprint(num) "
   ]
  },
  {
   "cell_type": "code",
   "execution_count": 29,
   "metadata": {},
   "outputs": [
    {
     "name": "stdout",
     "output_type": "stream",
     "text": [
      "\t\t\t Task 4\n",
      "\n",
      "True\n"
     ]
    }
   ],
   "source": [
    "# Task 4\n",
    "\n",
    "print(\"\\t\\t\\t Task 4\\n\")\n",
    "\n",
    "def isPalindrome(string):\n",
    "    left_pos = 0\n",
    "    right_pos = len(string) - 1\n",
    "\n",
    "    while right_pos >= left_pos:\n",
    "        if not string[left_pos] == string[right_pos]:\n",
    "            return False\n",
    "        left_pos += 1\n",
    "        right_pos -= 1\n",
    "    return True\n",
    "print(isPalindrome('madam')) "
   ]
  },
  {
   "cell_type": "code",
   "execution_count": 35,
   "metadata": {},
   "outputs": [
    {
     "name": "stdout",
     "output_type": "stream",
     "text": [
      "\t\t\t Task 5\n",
      "\n",
      "Enter the prime number : 2\n",
      "True\n"
     ]
    }
   ],
   "source": [
    "# Task 5\n",
    "\n",
    "print(\"\\t\\t\\t Task 5\\n\")\n",
    "\n",
    "def test_prime(n):\n",
    "    if (n==1):\n",
    "        return False\n",
    "    elif (n==2):\n",
    "        return True;\n",
    "    else:\n",
    "        for x in range(2,n):\n",
    "            if(n % x==0):\n",
    "                return False\n",
    "        return True     \n",
    "    \n",
    "value = int(input(\"Enter the prime number : \"))\n",
    "print(test_prime(value))"
   ]
  },
  {
   "cell_type": "code",
   "execution_count": 37,
   "metadata": {},
   "outputs": [
    {
     "name": "stdout",
     "output_type": "stream",
     "text": [
      "\t\t\t Task 6\n",
      "\n",
      "My Name Is Muhammad Fahad\n"
     ]
    }
   ],
   "source": [
    "# Task 6\n",
    "\n",
    "print(\"\\t\\t\\t Task 6\\n\")\n",
    "\n",
    "def printmany(*param):\n",
    "\n",
    "    print(*param)\n",
    "\n",
    "printmany(\"My\",\"Name\",\"Is\",\"Muhammad\",\"Fahad\")\n",
    "\n"
   ]
  },
  {
   "cell_type": "code",
   "execution_count": null,
   "metadata": {},
   "outputs": [],
   "source": []
  }
 ],
 "metadata": {
  "kernelspec": {
   "display_name": "Python 3",
   "language": "python",
   "name": "python3"
  },
  "language_info": {
   "codemirror_mode": {
    "name": "ipython",
    "version": 3
   },
   "file_extension": ".py",
   "mimetype": "text/x-python",
   "name": "python",
   "nbconvert_exporter": "python",
   "pygments_lexer": "ipython3",
   "version": "3.7.4"
  }
 },
 "nbformat": 4,
 "nbformat_minor": 2
}
