{
 "cells": [
  {
   "cell_type": "code",
   "execution_count": 26,
   "metadata": {},
   "outputs": [
    {
     "name": "stdout",
     "output_type": "stream",
     "text": [
      "\t\t\t\t\t Assignment 1 \n",
      "\n"
     ]
    }
   ],
   "source": [
    "print(\"\\t\\t\\t\\t\\t Assignment 1 \\n\")"
   ]
  },
  {
   "cell_type": "code",
   "execution_count": 7,
   "metadata": {},
   "outputs": [
    {
     "name": "stdout",
     "output_type": "stream",
     "text": [
      "\t\t\t Task 1\n",
      "\n",
      "Twinkle, twinkle, little star,\n",
      "\t How I wonder what you are!\n",
      "\t\tUp above the world so high,\n",
      "\t\tLike a diamond in the sky.\n",
      "Twinkle, twinkle, little star,\n",
      "\tHow I wonder what you are\n"
     ]
    }
   ],
   "source": [
    "# Task # 1\n",
    "\n",
    "print(\"\\t\\t\\t Task 1\\n\")\n",
    "print(\"Twinkle, twinkle, little star,\")\n",
    "      \n",
    "print(\"\\t How I wonder what you are!\")\n",
    "      \n",
    "print(\"\\t\\tUp above the world so high,\")\n",
    "      \n",
    "print(\"\\t\\tLike a diamond in the sky.\")\n",
    "      \n",
    "print(\"Twinkle, twinkle, little star,\")\n",
    "      \n",
    "print(\"\\tHow I wonder what you are\")"
   ]
  },
  {
   "cell_type": "code",
   "execution_count": 10,
   "metadata": {},
   "outputs": [
    {
     "name": "stdout",
     "output_type": "stream",
     "text": [
      "\t\t\t Task 2\n",
      "\n",
      "3.7.4 (default, Aug  9 2019, 18:34:13) [MSC v.1915 64 bit (AMD64)]\n"
     ]
    }
   ],
   "source": [
    "# Task 2\n",
    "\n",
    "print(\"\\t\\t\\t Task 2\\n\")\n",
    "import sys\n",
    "print (sys.version)"
   ]
  },
  {
   "cell_type": "code",
   "execution_count": 35,
   "metadata": {},
   "outputs": [
    {
     "name": "stdout",
     "output_type": "stream",
     "text": [
      "\t\t\t Task 3\n",
      "\n",
      "2019-11-01 05:14:33.781307\n"
     ]
    }
   ],
   "source": [
    "# Task 3\n",
    "\n",
    "print(\"\\t\\t\\t Task 3\\n\")\n",
    "import datetime\n",
    "now = datetime.datetime.now()\n",
    "print(now)"
   ]
  },
  {
   "cell_type": "code",
   "execution_count": 21,
   "metadata": {},
   "outputs": [
    {
     "name": "stdout",
     "output_type": "stream",
     "text": [
      "\t\t\t Task 4\n",
      "\n",
      "Enter the radius of a circle 15\n",
      "706.9499999999999\n"
     ]
    }
   ],
   "source": [
    "# Task 4\n",
    "\n",
    "print(\"\\t\\t\\t Task 4\\n\")\n",
    "r = int(input(\"Enter the radius of a circle \"))\n",
    "pi = 3.142\n",
    "A = pi * (r**2) # formula of area\n",
    "\n",
    "print(A)\n"
   ]
  },
  {
   "cell_type": "code",
   "execution_count": 2,
   "metadata": {},
   "outputs": [
    {
     "name": "stdout",
     "output_type": "stream",
     "text": [
      "\t\t\t Task 5\n",
      "\n",
      "Enter the First Name fahad\n",
      "Enter the Last Name muhammad\n",
      "muhammad fahad\n"
     ]
    }
   ],
   "source": [
    "# Task 5\n",
    "\n",
    "print(\"\\t\\t\\t Task 5\\n\")\n",
    "\n",
    "first = input(\"Enter the First Name \")\n",
    "last = input(\"Enter the Last Name \")\n",
    "\n",
    "print(last + \" \" + first)\n"
   ]
  },
  {
   "cell_type": "code",
   "execution_count": null,
   "metadata": {},
   "outputs": [],
   "source": [
    "# Task 6\n",
    "\n",
    "print(\"\\t\\t\\t Task 6\\n\")\n",
    "\n",
    "First = int(input(\"Enter the First Number \"))\n",
    "Second = int(input(\"Enter the Second Number \"))\n",
    "addition = First + Second\n",
    "\n",
    "print(addition)"
   ]
  },
  {
   "cell_type": "code",
   "execution_count": null,
   "metadata": {},
   "outputs": [],
   "source": []
  }
 ],
 "metadata": {
  "kernelspec": {
   "display_name": "Python 3",
   "language": "python",
   "name": "python3"
  },
  "language_info": {
   "codemirror_mode": {
    "name": "ipython",
    "version": 3
   },
   "file_extension": ".py",
   "mimetype": "text/x-python",
   "name": "python",
   "nbconvert_exporter": "python",
   "pygments_lexer": "ipython3",
   "version": "3.7.4"
  }
 },
 "nbformat": 4,
 "nbformat_minor": 2
}
