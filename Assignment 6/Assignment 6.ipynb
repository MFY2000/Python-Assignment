{
 "cells": [
  {
   "cell_type": "code",
   "execution_count": 1,
   "metadata": {},
   "outputs": [
    {
     "name": "stdout",
     "output_type": "stream",
     "text": [
      "\t\t\t\t\t Assignment 2\n",
      "\n"
     ]
    }
   ],
   "source": [
    "\n",
    "print(\"\\t\\t\\t\\t\\t Assignment 2\\n\")"
   ]
  },
  {
   "cell_type": "code",
   "execution_count": 7,
   "metadata": {},
   "outputs": [
    {
     "name": "stdout",
     "output_type": "stream",
     "text": [
      "\t\t\t Task 1\n",
      "\n",
      "Q1) Define Object Oriented Programming Language?\n",
      "\n",
      "\n",
      "Ans) OOP language is a type computer programming (software design)\n",
      " in which programmers define not only the data type of a data structure,\n",
      "but also the types of operations (functions) that can be applied to the data structure.\n"
     ]
    }
   ],
   "source": [
    "# Task 1\n",
    "\n",
    "print(\"\\t\\t\\t Task 1\\n\")\n",
    "\n",
    "print(\"Q1) Define Object Oriented Programming Language?\\n\\n\")\n",
    "\n",
    "\n",
    "print(\"Ans) OOP language is a type computer programming (software design)\\n in which programmers define not only the data type of a data structure,\\nbut also the types of operations (functions) that can be applied to the data structure.\")"
   ]
  },
  {
   "cell_type": "code",
   "execution_count": 10,
   "metadata": {},
   "outputs": [
    {
     "name": "stdout",
     "output_type": "stream",
     "text": [
      "\t\t\t Task 2\n",
      "\n",
      "Q1) List down the Benefits of OOP?\n",
      "\n",
      "\n",
      "\n",
      " > Modularity for easier troubleshooting. Something has gone wrong, and you have no idea where to look.\n",
      "\n",
      " > Reuse of code through inheritance.\n",
      "\n",
      " > Flexibility through polymorphism. \n",
      "\n",
      " > Effective problem solving.\n"
     ]
    }
   ],
   "source": [
    "# Task 2\n",
    "\n",
    "print(\"\\t\\t\\t Task 2\\n\")\n",
    "\n",
    "print(\"Q2) List down the Benefits of OOP?\\n\\n\")\n",
    "\n",
    "print(\"\\n > Modularity for easier troubleshooting. Something has gone wrong, and you have no idea where to look.\")\n",
    "print(\"\\n > Reuse of code through inheritance.\")\n",
    "print(\"\\n > Flexibility through polymorphism. \")\n",
    "print(\"\\n > Effective problem solving.\")"
   ]
  },
  {
   "cell_type": "code",
   "execution_count": 14,
   "metadata": {},
   "outputs": [
    {
     "name": "stdout",
     "output_type": "stream",
     "text": [
      "\t\t\t Task 3\n",
      "\n",
      "Q3) Differentiate between function and method?\n",
      "\n",
      "\n",
      "\n",
      "Ans) A function is a piece of code that is called by name.\n",
      " It can be passed data to operate on (i.e. the parameters) and can optionally return data (the return value).\n",
      " All data that is passed to a function is explicitly passed.\n",
      " A method is a piece of code that is called by a name that is associated with an object.\n"
     ]
    }
   ],
   "source": [
    "# Task 3\n",
    "\n",
    "print(\"\\t\\t\\t Task 3\\n\")\n",
    "\n",
    "print(\"Q3) Differentiate between function and method?\\n\\n\")\n",
    "\n",
    "print(\"\\nAns) A function is a piece of code that is called by name.\\n It can be passed data to operate on (i.e. the parameters) and can optionally return data (the return value).\\n All data that is passed to a function is explicitly passed.\\n A method is a piece of code that is called by a name that is associated with an object.\")"
   ]
  },
  {
   "cell_type": "code",
   "execution_count": 22,
   "metadata": {},
   "outputs": [
    {
     "name": "stdout",
     "output_type": "stream",
     "text": [
      "\t\t\t Task 4\n",
      "\n",
      "Q4) Define the following terms:\n",
      "   1. Class\n",
      "   2. Object\n",
      "   3. Attribute\n",
      "   4. Behavior\n",
      "\n",
      "\n",
      "Ans)\n",
      "\n",
      " Class: \n",
      "       A class is a code template for creating objects. Objects have member variables and have behaviour associated with them. In python a class is created by the keyword class . An object is created using the constructor of the class\n",
      "\n",
      "\n",
      " Object: \n",
      "       The object() function returns an empty object. You cannot add new properties or methods to this object. This object is the base for all classes, it holds the built-in properties and methods which are default for all classes\n",
      "\n",
      "\n",
      " Attribute: \n",
      "       A Python class attribute is an attribute of the class (circular, I know), rather than an attribute of an instance of a class. For Java or C++ programmers, the class attribute is similar—but not identical—to the static member.\n",
      "\n",
      "\n",
      " Behavior: \n",
      "        Because of their bulk, pythons move by scooting forward in a straight line. This is called “rectilinear progression” movement, according to the San Diego Zoo. Pythons stiffen their ribs for support against the ground then lift their bellies and push themselves forward\n"
     ]
    }
   ],
   "source": [
    "# Task 4\n",
    "\n",
    "print(\"\\t\\t\\t Task 4\\n\")\n",
    "\n",
    "print(\"Q4) Define the following terms:\\n   1. Class\\n   2. Object\\n   3. Attribute\\n   4. Behavior\\n\")\n",
    "\n",
    "print(\"\\nAns)\\n\\n Class: \\n       A class is a code template for creating objects. Objects have member variables and have behaviour associated with them. In python a class is created by the keyword class . An object is created using the constructor of the class\")\n",
    "\n",
    "print(\"\\n\\n Object: \\n       The object() function returns an empty object. You cannot add new properties or methods to this object. This object is the base for all classes, it holds the built-in properties and methods which are default for all classes\")\n",
    "\n",
    "print(\"\\n\\n Attribute: \\n       A Python class attribute is an attribute of the class (circular, I know), rather than an attribute of an instance of a class. For Java or C++ programmers, the class attribute is similar—but not identical—to the static member.\")\n",
    "\n",
    "print(\"\\n\\n Behavior: \\n        Because of their bulk, pythons move by scooting forward in a straight line. This is called “rectilinear progression” movement, according to the San Diego Zoo. Pythons stiffen their ribs for support against the ground then lift their bellies and push themselves forward\")"
   ]
  },
  {
   "cell_type": "code",
   "execution_count": 43,
   "metadata": {},
   "outputs": [
    {
     "name": "stdout",
     "output_type": "stream",
     "text": [
      "\t\t\t Task 5\n",
      "\n",
      "car of modal Alto Color of black Name on the personfahad\n",
      "car of modal alto Color of black Name on the personfahad\n",
      "car of modal alto Color of black Name on the personfahad\n",
      "car of modal alto Color of black Name on the personfahad\n",
      "car of modal alto Color of black Name on the personfahad\n",
      "car of modal alto Color of black Name on the personfahad\n",
      "6\n"
     ]
    }
   ],
   "source": [
    "# Task 5\n",
    "\n",
    "print(\"\\t\\t\\t Task 5\\n\")\n",
    "\n",
    "class Car:\n",
    "\n",
    "    # create class attributes\n",
    "    car_count = 0\n",
    "\n",
    "    # create class methods\n",
    "    def start(model, color , name):\n",
    "        print (\"car of modal \"+model+\" Color of \"+color+\" Name on the person\"+name)\n",
    "        Car.car_count += 1\n",
    "\n",
    "start = Car.start('Alto','black','fahad')\n",
    "start = Car.start('alto','black','fahad')\n",
    "start = Car.start('alto','black','fahad')\n",
    "start = Car.start('alto','black','fahad')\n",
    "start = Car.start('alto','black','fahad')\n",
    "start = Car.start('alto','black','fahad')\n",
    "\n",
    "print(Car.car_count)"
   ]
  },
  {
   "cell_type": "code",
   "execution_count": null,
   "metadata": {},
   "outputs": [],
   "source": []
  }
 ],
 "metadata": {
  "kernelspec": {
   "display_name": "Python 3",
   "language": "python",
   "name": "python3"
  },
  "language_info": {
   "codemirror_mode": {
    "name": "ipython",
    "version": 3
   },
   "file_extension": ".py",
   "mimetype": "text/x-python",
   "name": "python",
   "nbconvert_exporter": "python",
   "pygments_lexer": "ipython3",
   "version": "3.7.4"
  }
 },
 "nbformat": 4,
 "nbformat_minor": 2
}
