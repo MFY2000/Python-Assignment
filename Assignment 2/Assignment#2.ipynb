{
 "cells": [
  {
   "cell_type": "code",
   "execution_count": 1,
   "metadata": {},
   "outputs": [
    {
     "name": "stdout",
     "output_type": "stream",
     "text": [
      "\t\t\t\t\t Assignment 2\n",
      "\n"
     ]
    }
   ],
   "source": [
    "print(\"\\t\\t\\t\\t\\t Assignment 2\\n\")"
   ]
  },
  {
   "cell_type": "code",
   "execution_count": 2,
   "metadata": {},
   "outputs": [
    {
     "name": "stdout",
     "output_type": "stream",
     "text": [
      "Enter marks out of 100: 77\n",
      "Enter marks out of 100: 90\n",
      "Enter marks out of 100: 99\n",
      "Enter marks out of 100: 100\n",
      "Enter marks out of 100: 98\n",
      "Totalmarks = 464\n",
      "Percentage = 92.8\n",
      "Grade A+\n"
     ]
    }
   ],
   "source": [
    "# Task No 01\n",
    "marks=[]\n",
    "totalmarks=0;\n",
    "for i in range (5):\n",
    "    x=int(input(\"Enter marks out of 100: \"))\n",
    "  \n",
    "    marks.append(x)\n",
    "    totalmarks=totalmarks+x\n",
    "\n",
    "print(\"Totalmarks =\",totalmarks)  \n",
    "percentage=(totalmarks*100)/500\n",
    "print(\"Percentage =\",percentage)\n",
    "if percentage>=90:\n",
    "    print(\"Grade A+\")\n",
    "elif percentage>=80:\n",
    "    print(\"Grade A\")\n",
    "elif percentage>=70:\n",
    "    print(\"Grade B\")\n",
    "elif percentage>=60:\n",
    "    print(\"Grade C\")    \n",
    "elif percentage>=50:\n",
    "    print(\"Grade D\") \n",
    "else:\n",
    "    print(\"Fail\")"
   ]
  },
  {
   "cell_type": "code",
   "execution_count": 3,
   "metadata": {},
   "outputs": [
    {
     "name": "stdout",
     "output_type": "stream",
     "text": [
      "Enter Number: 78\n",
      "Even Number\n"
     ]
    }
   ],
   "source": [
    "#Task No 02\n",
    "x=int(input(\"Enter Number: \"))\n",
    "if x%2==0:\n",
    "    print(\"Even Number\")\n",
    "else:\n",
    "    print(\"Odd Number\")"
   ]
  },
  {
   "cell_type": "code",
   "execution_count": 5,
   "metadata": {},
   "outputs": [
    {
     "name": "stdout",
     "output_type": "stream",
     "text": [
      "6\n"
     ]
    }
   ],
   "source": [
    "# Task No 03\n",
    "list=[1,2,3,4,5,6]\n",
    "print(len(list))"
   ]
  },
  {
   "cell_type": "code",
   "execution_count": 9,
   "metadata": {},
   "outputs": [
    {
     "name": "stdout",
     "output_type": "stream",
     "text": [
      "Sum of list= 60\n"
     ]
    }
   ],
   "source": [
    "# Task No 04\n",
    "list=[1,2,3,4,5]\n",
    "x = len(list)\n",
    "sum=0\n",
    "for i in range (x):\n",
    "    sum +=list[i]\n",
    "print(\"Sum of list=\",sum)"
   ]
  },
  {
   "cell_type": "code",
   "execution_count": 10,
   "metadata": {},
   "outputs": [
    {
     "name": "stdout",
     "output_type": "stream",
     "text": [
      "89\n"
     ]
    }
   ],
   "source": [
    "# Task No 05\n",
    "list= [1, 1, 2, 3, 5, 8, 13, 21, 34, 55, 89]\n",
    "print(max(list))"
   ]
  },
  {
   "cell_type": "code",
   "execution_count": 13,
   "metadata": {},
   "outputs": [
    {
     "name": "stdout",
     "output_type": "stream",
     "text": [
      "1\n",
      "1\n",
      "2\n",
      "3\n"
     ]
    }
   ],
   "source": [
    "# Task No 06\n",
    "list=[1,1,2,3,5,8,13,21,34,55,89]\n",
    "x=len(list)\n",
    "for i in range(x):\n",
    "    if list[i]<5:\n",
    "        print(list[i])"
   ]
  },
  {
   "cell_type": "code",
   "execution_count": null,
   "metadata": {},
   "outputs": [],
   "source": []
  }
 ],
 "metadata": {
  "kernelspec": {
   "display_name": "Python 3",
   "language": "python",
   "name": "python3"
  },
  "language_info": {
   "codemirror_mode": {
    "name": "ipython",
    "version": 3
   },
   "file_extension": ".py",
   "mimetype": "text/x-python",
   "name": "python",
   "nbconvert_exporter": "python",
   "pygments_lexer": "ipython3",
   "version": "3.7.4"
  }
 },
 "nbformat": 4,
 "nbformat_minor": 2
}
