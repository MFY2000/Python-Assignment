{
 "cells": [
  {
   "cell_type": "code",
   "execution_count": 1,
   "metadata": {},
   "outputs": [
    {
     "name": "stdout",
     "output_type": "stream",
     "text": [
      "\t\t\tAssignment 3\n"
     ]
    }
   ],
   "source": [
    "print(\"\\t\\t\\tAssignment 3\")"
   ]
  },
  {
   "cell_type": "code",
   "execution_count": 2,
   "metadata": {},
   "outputs": [
    {
     "name": "stdout",
     "output_type": "stream",
     "text": [
      "Task # 1\n",
      "Please select operation:  Add(+) / Subtract(-) / Multiply(*) / Divide(/)\n",
      "Select operations: +\n",
      "Enter first number: 15\n",
      "Enter second number: 30\n",
      "15 + 30 = 45\n"
     ]
    }
   ],
   "source": [
    "# Task 1\n",
    "\n",
    "print(\"Task # 1\") \n",
    "\n",
    "print(\"Please select operation:  Add(+) / Subtract(-) / Multiply(*) / Divide(/)\") \n",
    "\n",
    "select = input(\"Select operations: \") \n",
    "  \n",
    "number_1 = int(input(\"Enter first number: \")) \n",
    "number_2 = int(input(\"Enter second number: \")) \n",
    "  \n",
    "if select == '+': \n",
    "    print(number_1, \"+\", number_2, \"=\", number_1 + number_2) \n",
    "  \n",
    "elif select == '-': \n",
    "    print(number_1, \"-\", number_2, \"=\", number_1 - number_2) \n",
    "  \n",
    "elif select == '*': \n",
    "    print(number_1, \"*\", number_2, \"=\", number_1 * number_2) \n",
    "  \n",
    "elif select == '/': \n",
    "    print(number_1, \"/\", number_2, \"=\", number_1 / number_2) \n",
    "else: \n",
    "\n",
    "    print(\"Invalid input\")"
   ]
  },
  {
   "cell_type": "code",
   "execution_count": 19,
   "metadata": {},
   "outputs": [
    {
     "name": "stdout",
     "output_type": "stream",
     "text": [
      "Task # 2\n",
      "['1', '2', '3', '4']\n"
     ]
    }
   ],
   "source": [
    "# Task 2\n",
    "\n",
    "print(\"Task # 2\") \n",
    "mylist = ['1','Amjad','2','Haseeb','3','4']\n",
    "mynewlist = []\n",
    "for item in mylist:\n",
    "    mynewlist =  [s for s in mylist if s.isdigit()]\n",
    "print(mynewlist)"
   ]
  },
  {
   "cell_type": "code",
   "execution_count": 22,
   "metadata": {},
   "outputs": [
    {
     "name": "stdout",
     "output_type": "stream",
     "text": [
      "Task # 3\n",
      "{'Employee_ID': '0001 ', 'Full Name': 'Haseeb Rehman', 'Father Name': 'Amjad Ali', 'value': '150000'}\n"
     ]
    }
   ],
   "source": [
    "# Task 3\n",
    "\n",
    "print(\"Task # 3\") \n",
    "\n",
    "num = {\"Employee_ID\": \"0001 \",\"Full Name\": \"Haseeb Rehman\",\"Father Name\": \"Amjad Ali\"}\n",
    "\n",
    "num[\"value\"] = \"150000\"\n",
    "       \n",
    "print(num)"
   ]
  },
  {
   "cell_type": "code",
   "execution_count": 12,
   "metadata": {},
   "outputs": [
    {
     "name": "stdout",
     "output_type": "stream",
     "text": [
      "Task # 4\n",
      "220\n"
     ]
    }
   ],
   "source": [
    "# Task 4\n",
    "\n",
    "print(\"Task # 4\") \n",
    "\n",
    "num = {'k1':50,'k2':70,'k3':100}\n",
    "\n",
    "print(sum(num.values()))"
   ]
  },
  {
   "cell_type": "code",
   "execution_count": 14,
   "metadata": {},
   "outputs": [
    {
     "name": "stdout",
     "output_type": "stream",
     "text": [
      "Task # 5\n",
      "{1, 2, 5}\n"
     ]
    }
   ],
   "source": [
    "# Task 5\n",
    "\n",
    "print(\"Task # 5\") \n",
    "\n",
    "a = [1,2,3,2,1,5,6,5,5,5]\n",
    "\n",
    "value = set(x for x in a if a.count(x) > 1)\n",
    "\n",
    "print(value)"
   ]
  },
  {
   "cell_type": "code",
   "execution_count": 15,
   "metadata": {},
   "outputs": [
    {
     "name": "stdout",
     "output_type": "stream",
     "text": [
      "Task # 6\n",
      "Yes\n"
     ]
    }
   ],
   "source": [
    "# Task 6\n",
    "\n",
    "print(\"Task # 6\") \n",
    "\n",
    "num = {\"k1\":70 , \"k2\":40 ,\"k3\":90}\n",
    "\n",
    "if 'k3' in num.keys():\n",
    "  print(\"Yes\")\n",
    "else:\n",
    "  print(\"No\")"
   ]
  },
  {
   "cell_type": "code",
   "execution_count": null,
   "metadata": {},
   "outputs": [],
   "source": []
  }
 ],
 "metadata": {
  "kernelspec": {
   "display_name": "Python 3",
   "language": "python",
   "name": "python3"
  },
  "language_info": {
   "codemirror_mode": {
    "name": "ipython",
    "version": 3
   },
   "file_extension": ".py",
   "mimetype": "text/x-python",
   "name": "python",
   "nbconvert_exporter": "python",
   "pygments_lexer": "ipython3",
   "version": "3.7.4"
  }
 },
 "nbformat": 4,
 "nbformat_minor": 2
}
