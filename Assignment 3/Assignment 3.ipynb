{
 "cells": [
  {
   "cell_type": "code",
   "execution_count": 1,
   "metadata": {},
   "outputs": [
    {
     "name": "stdout",
     "output_type": "stream",
     "text": [
      "\t\t\tAssignment 3\n"
     ]
    }
   ],
   "source": [
    "print(\"\\t\\t\\tAssignment 3\")"
   ]
  },
  {
   "cell_type": "code",
   "execution_count": 2,
   "metadata": {},
   "outputs": [
    {
     "name": "stdout",
     "output_type": "stream",
     "text": [
      "Task # 1\n",
      "Please select operation:  Add(+) / Subtract(-) / Multiply(*) / Divide(/)\n",
      "Select operations: +\n",
      "Enter first number: 15\n",
      "Enter second number: 30\n",
      "15 + 30 = 45\n"
     ]
    }
   ],
   "source": [
    "# Task 1\n",
    "\n",
    "print(\"Task # 1\") \n",
    "\n",
    "print(\"Please select operation:  Add(+) / Subtract(-) / Multiply(*) / Divide(/)\") \n",
    "\n",
    "select = input(\"Select operations: \") \n",
    "  \n",
    "number_1 = int(input(\"Enter first number: \")) \n",
    "number_2 = int(input(\"Enter second number: \")) \n",
    "  \n",
    "if select == '+': \n",
    "    print(number_1, \"+\", number_2, \"=\", number_1 + number_2) \n",
    "  \n",
    "elif select == '-': \n",
    "    print(number_1, \"-\", number_2, \"=\", number_1 - number_2) \n",
    "  \n",
    "elif select == '*': \n",
    "    print(number_1, \"*\", number_2, \"=\", number_1 * number_2) \n",
    "  \n",
    "elif select == '/': \n",
    "    print(number_1, \"/\", number_2, \"=\", number_1 / number_2) \n",
    "else: \n",
    "    print(\"Invalid input\")"
   ]
  },
  {
   "cell_type": "code",
   "execution_count": 9,
   "metadata": {},
   "outputs": [
    {
     "name": "stdout",
     "output_type": "stream",
     "text": [
      "Task # 2\n"
     ]
    },
    {
     "ename": "TypeError",
     "evalue": "'<=' not supported between instances of 'str' and 'int'",
     "output_type": "error",
     "traceback": [
      "\u001b[1;31m---------------------------------------------------------------------------\u001b[0m",
      "\u001b[1;31mTypeError\u001b[0m                                 Traceback (most recent call last)",
      "\u001b[1;32m<ipython-input-9-1a59d4f6723f>\u001b[0m in \u001b[0;36m<module>\u001b[1;34m\u001b[0m\n\u001b[0;32m      6\u001b[0m \u001b[1;33m\u001b[0m\u001b[0m\n\u001b[0;32m      7\u001b[0m \u001b[1;32mfor\u001b[0m \u001b[0mi\u001b[0m \u001b[1;32min\u001b[0m \u001b[0mrange\u001b[0m \u001b[1;33m(\u001b[0m\u001b[0mlen\u001b[0m\u001b[1;33m(\u001b[0m\u001b[0mnumbers\u001b[0m\u001b[1;33m)\u001b[0m\u001b[1;33m)\u001b[0m\u001b[1;33m:\u001b[0m\u001b[1;33m\u001b[0m\u001b[1;33m\u001b[0m\u001b[0m\n\u001b[1;32m----> 8\u001b[1;33m     \u001b[1;32mif\u001b[0m \u001b[0mnumbers\u001b[0m\u001b[1;33m[\u001b[0m\u001b[0mi\u001b[0m\u001b[1;33m]\u001b[0m \u001b[1;33m<=\u001b[0m \u001b[1;36m0\u001b[0m \u001b[1;33m:\u001b[0m\u001b[1;33m\u001b[0m\u001b[1;33m\u001b[0m\u001b[0m\n\u001b[0m\u001b[0;32m      9\u001b[0m         \u001b[0mprint\u001b[0m\u001b[1;33m(\u001b[0m\u001b[0mnumbers\u001b[0m\u001b[1;33m[\u001b[0m\u001b[0mi\u001b[0m\u001b[1;33m]\u001b[0m\u001b[1;33m)\u001b[0m\u001b[1;33m\u001b[0m\u001b[1;33m\u001b[0m\u001b[0m\n\u001b[0;32m     10\u001b[0m \u001b[1;33m\u001b[0m\u001b[0m\n",
      "\u001b[1;31mTypeError\u001b[0m: '<=' not supported between instances of 'str' and 'int'"
     ]
    }
   ],
   "source": [
    "# Task 2\n",
    "\n",
    "print(\"Task # 2\") \n",
    "\n",
    "numbers=[1,True,3,\"stringe\",5,785,False,75,12,'fahad']\n",
    "\n",
    "for i in range (len(numbers)):\n",
    "    if numbers[i] <= 0 : \n",
    "        print(numbers[i])\n",
    "\n"
   ]
  },
  {
   "cell_type": "code",
   "execution_count": 11,
   "metadata": {},
   "outputs": [
    {
     "name": "stdout",
     "output_type": "stream",
     "text": [
      "220\n"
     ]
    }
   ],
   "source": [
    "# Task 3\n",
    "\n",
    "print(\"Task # 3\") \n",
    "\n",
    "num = {'k1':50,'k2':70,'k3':100}\n",
    "\n",
    "print(sum(num.values()))"
   ]
  },
  {
   "cell_type": "code",
   "execution_count": 12,
   "metadata": {},
   "outputs": [
    {
     "name": "stdout",
     "output_type": "stream",
     "text": [
      "Task # 4\n",
      "220\n"
     ]
    }
   ],
   "source": [
    "# Task 4\n",
    "\n",
    "print(\"Task # 4\") \n",
    "\n",
    "num = {'k1':50,'k2':70,'k3':100}\n",
    "\n",
    "print(sum(num.values()))"
   ]
  },
  {
   "cell_type": "code",
   "execution_count": 14,
   "metadata": {},
   "outputs": [
    {
     "name": "stdout",
     "output_type": "stream",
     "text": [
      "Task # 5\n",
      "{1, 2, 5}\n"
     ]
    }
   ],
   "source": [
    "# Task 5\n",
    "\n",
    "print(\"Task # 5\") \n",
    "\n",
    "a = [1,2,3,2,1,5,6,5,5,5]\n",
    "\n",
    "value = set(x for x in a if a.count(x) > 1)\n",
    "\n",
    "print(value)"
   ]
  },
  {
   "cell_type": "code",
   "execution_count": null,
   "metadata": {},
   "outputs": [],
   "source": [
    "# Task 6\n",
    "\n",
    "print(\"Task # 6\") \n",
    "\n",
    "d = {\"k1\":70 , \"\" }\n",
    "\n",
    "if 'key7' in d.keys():\n",
    "  print(\"Yes\")\n",
    "else:\n",
    "  print(\"No\")"
   ]
  }
 ],
 "metadata": {
  "kernelspec": {
   "display_name": "Python 3",
   "language": "python",
   "name": "python3"
  },
  "language_info": {
   "codemirror_mode": {
    "name": "ipython",
    "version": 3
   },
   "file_extension": ".py",
   "mimetype": "text/x-python",
   "name": "python",
   "nbconvert_exporter": "python",
   "pygments_lexer": "ipython3",
   "version": "3.7.4"
  }
 },
 "nbformat": 4,
 "nbformat_minor": 2
}
